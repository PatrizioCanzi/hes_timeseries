{
 "cells": [
  {
   "cell_type": "code",
   "execution_count": null,
   "metadata": {},
   "outputs": [],
   "source": [
    "import pandas as pd\n",
    "import numpy as np \n",
    "import os \n",
    "\n",
    "import plotly.express as px\n",
    "import plotly.graph_objs as go\n",
    "from statsmodels.tsa.seasonal import seasonal_decompose\n",
    "\n",
    "\n",
    "import seaborn as sns \n",
    "import matplotlib.pyplot as plt \n",
    "import glob \n",
    "\n",
    "\n",
    "print(os.getcwd())\n",
    "\n",
    "## READING SECTION \n",
    "prd_files = glob.glob( '../data/generation/*.csv')\n",
    "prd_in = pd.concat((pd.read_csv(file) for file in prd_files), ignore_index=True)\n",
    "\n",
    "print(prd_in.shape)\n",
    "prd_in.head()"
   ]
  },
  {
   "cell_type": "code",
   "execution_count": 16,
   "metadata": {},
   "outputs": [],
   "source": [
    "col_renaming = {\n",
    "       'Area': 'area', \n",
    "       'MTU':'time', \n",
    "       'Biomass  - Actual Aggregated [MW]': 'biomass',\n",
    "       'Energy storage - Actual Aggregated [MW]' :'storage',\n",
    "       'Fossil Brown coal/Lignite  - Actual Aggregated [MW]':'brown_coal',\n",
    "       'Fossil Coal-derived gas  - Actual Aggregated [MW]':'coal',\n",
    "       'Fossil Gas  - Actual Aggregated [MW]':'gas',\n",
    "       'Fossil Hard coal  - Actual Aggregated [MW]':'hard_coal',\n",
    "       'Fossil Oil  - Actual Aggregated [MW]':'oil',\n",
    "       'Fossil Oil shale  - Actual Aggregated [MW]':'oil',\n",
    "       'Fossil Peat  - Actual Aggregated [MW]':'peat',\n",
    "       'Geothermal  - Actual Aggregated [MW]':'geothermal',\n",
    "       'Hydro Pumped Storage  - Actual Aggregated [MW]':'hydro_pumped',\n",
    "       'Hydro Pumped Storage  - Actual Consumption [MW]':'hydro_pumped_consumption',\n",
    "       'Hydro Run-of-river and poundage  - Actual Aggregated [MW]':'hydro_run_of_river',\n",
    "       'Hydro Water Reservoir  - Actual Aggregated [MW]':'reservoir',\n",
    "       'Marine  - Actual Aggregated [MW]':'marine', \n",
    "       'Nuclear  - Actual Aggregated [MW]':'nuclear',\n",
    "       'Other  - Actual Aggregated [MW]':'other',\n",
    "       'Other renewable  - Actual Aggregated [MW]':'other_renewable',\n",
    "       'Solar  - Actual Aggregated [MW]': 'solar', \n",
    "       'Waste  - Actual Aggregated [MW]':'waste',\n",
    "       'Wind Offshore  - Actual Aggregated [MW]':'wind_offshore',\n",
    "       'Wind Onshore  - Actual Aggregated [MW]':'wind_onshore'\n",
    "}"
   ]
  },
  {
   "cell_type": "code",
   "execution_count": null,
   "metadata": {},
   "outputs": [],
   "source": [
    "prd_work = prd_in.copy( deep = True)\n",
    "# Column renaming \n",
    "prd_work.rename( columns = col_renaming, inplace = True)\n",
    "\n",
    "prd_work['dt'] = prd_work['time'].apply( lambda x: x[:16])\n",
    "prd_work['dt'] = pd.to_datetime( prd_work['dt'], dayfirst = True )\n",
    "\n",
    "prd_work_char = prd_work.copy( deep = True )\n",
    "\n",
    "#handle weird caracters \n",
    "null_chars = ['n/e', '' '-']\n",
    "for n in null_chars:\n",
    "    prd_work_char.replace( n , 0, inplace = True )\n",
    "\n",
    "## CET handling \n",
    "prd_work_ts = prd_work_char.drop_duplicates( subset = 'dt' , keep = 'first')\n",
    "\n",
    "# limit time\n",
    "prd_work_ts = prd_work_ts[prd_work_ts.dt< '2024-10-01 00:00:00']\n",
    "# fill small empty gaps  with previous ts \n",
    "prd_work_ts.ffill( inplace = True )\n",
    "prd_work_ts.fillna( 0, inplace = True )"
   ]
  },
  {
   "cell_type": "code",
   "execution_count": null,
   "metadata": {},
   "outputs": [],
   "source": [
    "prd_work_ts.isnull().sum()"
   ]
  },
  {
   "cell_type": "code",
   "execution_count": null,
   "metadata": {},
   "outputs": [],
   "source": [
    "prd_work_ts.groupby ( prd_work_ts.dt.dt.year).count()"
   ]
  },
  {
   "cell_type": "code",
   "execution_count": 20,
   "metadata": {},
   "outputs": [],
   "source": [
    "## Persist for later use \n",
    "prd_work_ts.to_csv( '..\\\\data\\\\curated_data\\\\generation_clean.csv', index = False )"
   ]
  }
 ],
 "metadata": {
  "kernelspec": {
   "display_name": "myenv",
   "language": "python",
   "name": "python3"
  },
  "language_info": {
   "codemirror_mode": {
    "name": "ipython",
    "version": 3
   },
   "file_extension": ".py",
   "mimetype": "text/x-python",
   "name": "python",
   "nbconvert_exporter": "python",
   "pygments_lexer": "ipython3",
   "version": "3.9.19"
  }
 },
 "nbformat": 4,
 "nbformat_minor": 2
}
